{
 "cells": [
  {
   "cell_type": "code",
   "execution_count": 1,
   "id": "7d45d5e6",
   "metadata": {},
   "outputs": [
    {
     "name": "stdout",
     "output_type": "stream",
     "text": [
      "Sravan-24-Eligible for voting\n",
      "harish-17- Not Eligible\n",
      "aravind-20-Eligible for voting\n",
      "akhil-18-Eligible for voting\n"
     ]
    }
   ],
   "source": [
    "\"\"\"Task:\n",
    "1.\n",
    "\n",
    "I/p:-\n",
    "l1=[Sravan,harish,aravind,akhil]\n",
    "l2=[24,17,20,18]\n",
    "\n",
    "o/p:- sravan-24-Eligible\n",
    "      harish-17-not eligible\n",
    "      aravind-20-eligible\n",
    "      akhil-18-eligible\n",
    "\n",
    "\"\"\"\n",
    "\n",
    "# problem solving\n",
    "l1=['Sravan','harish','aravind','akhil']\n",
    "l2=[24,17,20,18]\n",
    "l=len(l2)\n",
    "for i in range(l):\n",
    "    if l2[i] >=18:\n",
    "        print(f'{l1[i]}-{l2[i]}-Eligible for voting')\n",
    "    else:\n",
    "        print(f'{l1[i]}-{l2[i]}- Not Eligible')"
   ]
  },
  {
   "cell_type": "code",
   "execution_count": 2,
   "id": "343ccdd4",
   "metadata": {},
   "outputs": [
    {
     "name": "stdout",
     "output_type": "stream",
     "text": [
      "6\n"
     ]
    }
   ],
   "source": [
    "\"\"\"2.\n",
    "\n",
    "sum of digits\n",
    "\n",
    "I/p:- n=123          n=120\n",
    "o/p:- 6   #1+2+3     3     #1+2+0\n",
    "\"\"\"\n",
    "n=123\n",
    "sum=0\n",
    "while n>0:\n",
    "    rem=n%10\n",
    "    sum=sum+rem\n",
    "    n//=10\n",
    "print(sum)"
   ]
  },
  {
   "cell_type": "code",
   "execution_count": 3,
   "id": "8132e2fd",
   "metadata": {},
   "outputs": [
    {
     "name": "stdout",
     "output_type": "stream",
     "text": [
      "9\n"
     ]
    }
   ],
   "source": [
    "\"\"\"3.\n",
    "\n",
    "highest digit in an integer:-\n",
    "\n",
    "I/p:- n=123498\n",
    "\n",
    "o/p:- 9\n",
    "\"\"\"\n",
    "n=123498\n",
    "maxd=0\n",
    "while n>0:\n",
    "    rem=n%10\n",
    "    if rem>maxd:\n",
    "        maxd=rem\n",
    "    n//=10\n",
    "print(maxd)"
   ]
  },
  {
   "cell_type": "code",
   "execution_count": 6,
   "id": "3ee7525c",
   "metadata": {},
   "outputs": [
    {
     "name": "stdout",
     "output_type": "stream",
     "text": [
      "31\n"
     ]
    }
   ],
   "source": [
    "\"\"\"4.\n",
    "\n",
    "choc_price=1/-\n",
    "3 wrappers= 1 choc\n",
    "\n",
    "amount=21     21+7+2+1==31\n",
    "\n",
    " how many chocs I can eat==?? \n",
    "\"\"\"\n",
    "rup=21\n",
    "cost=1\n",
    "choc=rup//cost\n",
    "w=choc\n",
    "while w>=3:\n",
    "    e_c=w//3\n",
    "    # print(e_c)\n",
    "    choc+=e_c\n",
    "    w=e_c+w%3\n",
    "print(choc)"
   ]
  }
 ],
 "metadata": {
  "kernelspec": {
   "display_name": "Python 3",
   "language": "python",
   "name": "python3"
  },
  "language_info": {
   "codemirror_mode": {
    "name": "ipython",
    "version": 3
   },
   "file_extension": ".py",
   "mimetype": "text/x-python",
   "name": "python",
   "nbconvert_exporter": "python",
   "pygments_lexer": "ipython3",
   "version": "3.13.6"
  }
 },
 "nbformat": 4,
 "nbformat_minor": 5
}
