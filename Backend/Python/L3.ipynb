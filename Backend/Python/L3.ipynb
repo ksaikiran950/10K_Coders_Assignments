{
 "cells": [
  {
   "cell_type": "code",
   "execution_count": 1,
   "id": "751b2cf9",
   "metadata": {},
   "outputs": [
    {
     "name": "stdout",
     "output_type": "stream",
     "text": [
      "[12, 10, 23]\n"
     ]
    }
   ],
   "source": [
    "l1=[[3,4,5],[1,2,7],[4,9,10]]\n",
    "l2=[]\n",
    "for i in range(len(l1)):\n",
    "    summ=0\n",
    "    for j in range(len(l1[i])):\n",
    "        summ+=l1[i][j]\n",
    "    l2.append(summ)\n",
    "print(l2)\n",
    "\n",
    "\n"
   ]
  },
  {
   "cell_type": "code",
   "execution_count": 2,
   "id": "c45915c6",
   "metadata": {},
   "outputs": [
    {
     "name": "stdout",
     "output_type": "stream",
     "text": [
      "[60, 14, 360]\n"
     ]
    }
   ],
   "source": [
    "l1=[[3,4,5],[1,2,7],[4,9,10]]\n",
    "l2=[]\n",
    "for i in range(len(l1)):\n",
    "    mul=1\n",
    "    for j in range(len(l1[i])):\n",
    "        mul*=l1[i][j]\n",
    "    l2.append(mul)\n",
    "print(l2)\n",
    "\n",
    "\n"
   ]
  },
  {
   "cell_type": "code",
   "execution_count": 3,
   "id": "06d5b2de",
   "metadata": {},
   "outputs": [
    {
     "name": "stdout",
     "output_type": "stream",
     "text": [
      "[[5, 4, 3], [7, 2, 1], [10, 9, 4]]\n"
     ]
    }
   ],
   "source": [
    "l1=[[3,4,5],[1,2,7],[4,9,10]]\n",
    "l2=[]\n",
    "for i in range(len(l1)):\n",
    "    l3=[]\n",
    "    for j in l1[i][::-1]:\n",
    "        l3.append(j)\n",
    "    l2.append(l3)\n",
    "print(l2)\n",
    "\n",
    "\n"
   ]
  },
  {
   "cell_type": "code",
   "execution_count": 4,
   "id": "109b1479",
   "metadata": {},
   "outputs": [
    {
     "name": "stdout",
     "output_type": "stream",
     "text": [
      "[60, 14, 360]\n"
     ]
    }
   ],
   "source": [
    "l1=[[3,4,5],[1,2,7],[4,9,10]]\n",
    "l2=[]\n",
    "for i in range(len(l1)):\n",
    "    mul=1\n",
    "    for j in range(len(l1[i])):\n",
    "        mul*=l1[i][j]\n",
    "    l2.append(mul)\n",
    "print(l2)\n",
    "\n",
    "\n"
   ]
  },
  {
   "cell_type": "code",
   "execution_count": 5,
   "id": "e48747d0",
   "metadata": {},
   "outputs": [
    {
     "name": "stdout",
     "output_type": "stream",
     "text": [
      "[12, 10, 23]\n"
     ]
    }
   ],
   "source": [
    "l1=[[3,4,5],[1,2,7],[4,9,10]]\n",
    "l2=[]\n",
    "for i in range(len(l1)):\n",
    "    summ=0\n",
    "    for j in range(len(l1[i])):\n",
    "        summ+=l1[i][j]\n",
    "    l2.append(summ)\n",
    "print(l2)\n",
    "\n",
    "\n"
   ]
  },
  {
   "cell_type": "code",
   "execution_count": null,
   "id": "55fefb03",
   "metadata": {},
   "outputs": [],
   "source": [
    "\"\"\" n=int(input())\n",
    "    s=input()\n",
    "    a,b,c=map(int,input().split())\n",
    "    l=list(map(int,input().split()))\n",
    "\n",
    "\n",
    "\"\"\"\n",
    "l1=list(map(int,input().split()))\n",
    "print(l1)\n"
   ]
  },
  {
   "cell_type": "code",
   "execution_count": 6,
   "id": "ccc1da77",
   "metadata": {},
   "outputs": [
    {
     "name": "stdout",
     "output_type": "stream",
     "text": [
      "[4, 8, 9, 6]\n"
     ]
    }
   ],
   "source": [
    "l2=[]\n",
    "n=4\n",
    "for i in range(n):\n",
    "    l1=list(map(int,input().split()))\n",
    "    l2.append(l1)\n",
    "\n",
    "l3=[]\n",
    "for k in range(len(l2)):\n",
    "    summ=0\n",
    "    for l in range(len(l2[k])):\n",
    "        summ+=l2[k][l]\n",
    "    l3.append(summ)\n",
    "print(l3)"
   ]
  },
  {
   "cell_type": "code",
   "execution_count": 1,
   "id": "54aa2ae4",
   "metadata": {},
   "outputs": [
    {
     "name": "stdout",
     "output_type": "stream",
     "text": [
      "[[7, 4, 1], [8, 5, 2], [9, 6, 3]]\n"
     ]
    }
   ],
   "source": [
    "l1=[[1,2,3],[4,5,6],[7,8,9]]\n",
    "l2=[]\n",
    "n = len(l1)\n",
    "l2 = [[0]*n for _ in range(n)]\n",
    "\n",
    "for i in range(n):\n",
    "    for j in range(n):\n",
    "        l2[j][n-1-i] = l1[i][j]\n",
    "\n",
    "print(l2)"
   ]
  },
  {
   "cell_type": "code",
   "execution_count": null,
   "id": "23d709e9",
   "metadata": {},
   "outputs": [
    {
     "name": "stdout",
     "output_type": "stream",
     "text": [
      "\n",
      "\n",
      "\n",
      "[[7, 4, 1], [8, 5, 2], [9, 6, 3]]\n"
     ]
    }
   ],
   "source": [
    "l1=[[1,2,3],[4,5,6],[7,8,9]]\n",
    "n=len(l1)\n",
    "l2=[[0]*n for _ in range(n)]\n",
    "for i in range(n):\n",
    "    for j in range(n):\n",
    "        l2[j][n-1-i] = l1[i][j]\n",
    "\n",
    "print(l2)"
   ]
  },
  {
   "cell_type": "code",
   "execution_count": 3,
   "id": "fc3962bd",
   "metadata": {},
   "outputs": [
    {
     "name": "stdout",
     "output_type": "stream",
     "text": [
      "7 4 1 \n",
      "8 5 2 \n",
      "9 6 3 \n"
     ]
    }
   ],
   "source": [
    "m1=[]\n",
    "n=3\n",
    "for _ in range(n):\n",
    "    m2=list(map(int,input().split()))\n",
    "    m1.append(m2)\n",
    "for i in range(n):\n",
    "    for j in range(n-1,-1,-1):\n",
    "        print(m1[j][i],end=\" \")\n",
    "    print()\n",
    "\n"
   ]
  },
  {
   "cell_type": "code",
   "execution_count": 5,
   "id": "2852b5d1",
   "metadata": {},
   "outputs": [
    {
     "name": "stdout",
     "output_type": "stream",
     "text": [
      "7 4 1 \n",
      "8 5 2 \n",
      "9 6 3 \n"
     ]
    }
   ],
   "source": [
    "m1=[]\n",
    "n=3\n",
    "for _ in range(n):\n",
    "    m2=list(map(int,input().split()))\n",
    "    m1.append(m2)\n",
    "for i in range(n):\n",
    "    for j in range(n):\n",
    "        print(m1[n-j-1][i],end=\" \")\n",
    "    print()\n",
    "\n"
   ]
  },
  {
   "cell_type": "code",
   "execution_count": 16,
   "id": "5cfa5029",
   "metadata": {},
   "outputs": [
    {
     "name": "stdout",
     "output_type": "stream",
     "text": [
      "[[9, 12, 15], [19, 26, 33]]\n",
      "[9, 12, 15]\n",
      "[19, 26, 33]\n"
     ]
    }
   ],
   "source": [
    "m1=[[1,2],[3,4]]  # 2 x 2\n",
    "m2=[[1,2,3],[4,5,6]]   # 2 x 3\n",
    "n=len(m1) # rows m1\n",
    "p=len(m2[0]) # columns m2\n",
    "m3=[[0]*p for i in range(n)]   # 2 x 3\n",
    "for i in range(n):  # rows 2\n",
    "    for j in range(p):   # cols 3\n",
    "        for k in range(n): \n",
    "            m3[i][j]+=m1[i][k]*m2[k][j]\n",
    "print(m3)\n",
    "for row in m3:\n",
    "    print(row)"
   ]
  },
  {
   "cell_type": "code",
   "execution_count": 22,
   "id": "c59a4b51",
   "metadata": {},
   "outputs": [
    {
     "name": "stdout",
     "output_type": "stream",
     "text": [
      "2432902008176640000\n",
      "4\n"
     ]
    }
   ],
   "source": [
    "\"\"\" trailing zeros\n",
    "\n",
    "\"\"\"\n",
    "num=20\n",
    "def fact(n):\n",
    "    if n==0 or n==1:\n",
    "        return 1\n",
    "    return n*fact(n-1)\n",
    "n1=str(fact(num))\n",
    "print(n1)\n",
    "c=0\n",
    "for i in range(len(n1)-1,-1,-1):\n",
    "    if n1[i]==\"0\":\n",
    "        c+=1\n",
    "    else:\n",
    "        break\n",
    "print(c)"
   ]
  },
  {
   "cell_type": "code",
   "execution_count": null,
   "id": "de0c9853",
   "metadata": {},
   "outputs": [],
   "source": [
    "n=5\n",
    "if n<5:\n",
    "    print(0)\n",
    "else:\n",
    "    f=1\n",
    "    for i in range(n):\n",
    "        f=f*i\n",
    "    while"
   ]
  },
  {
   "cell_type": "code",
   "execution_count": 1,
   "id": "60d49c6f",
   "metadata": {},
   "outputs": [
    {
     "name": "stdout",
     "output_type": "stream",
     "text": [
      "55\n"
     ]
    }
   ],
   "source": [
    "n=10\n",
    "def add(n):\n",
    "    if n==1:\n",
    "        return n\n",
    "    return n+add(n-1)\n",
    "print(add(n))"
   ]
  },
  {
   "cell_type": "code",
   "execution_count": 5,
   "id": "4b2ab6e5",
   "metadata": {},
   "outputs": [
    {
     "name": "stdout",
     "output_type": "stream",
     "text": [
      "True\n"
     ]
    }
   ],
   "source": [
    "s=\"racecar\"\n",
    "def palin(s):\n",
    "    if len(s)<=1:\n",
    "        return True\n",
    "    if s[0]!=s[-1]:\n",
    "        return False\n",
    "    return palin(s[1:-1])\n",
    "print(palin(s))\n"
   ]
  },
  {
   "cell_type": "code",
   "execution_count": 6,
   "id": "56b49f80",
   "metadata": {},
   "outputs": [
    {
     "name": "stdout",
     "output_type": "stream",
     "text": [
      "120\n"
     ]
    }
   ],
   "source": [
    "def fact(n):\n",
    "    if n==1 or n==0:\n",
    "        return 1\n",
    "    return n*fact(n-1)\n",
    "n=5\n",
    "print(fact(n))"
   ]
  },
  {
   "cell_type": "code",
   "execution_count": 6,
   "id": "8dab104c",
   "metadata": {},
   "outputs": [
    {
     "name": "stdout",
     "output_type": "stream",
     "text": [
      "13\n"
     ]
    }
   ],
   "source": [
    "def fib(n):\n",
    "    if n==0:\n",
    "        return 0\n",
    "    if n==1:\n",
    "        return 1\n",
    "    return fib(n-1)+fib(n-2)\n",
    "n=7\n",
    "print(fib(n))"
   ]
  },
  {
   "cell_type": "code",
   "execution_count": 1,
   "id": "e59206af",
   "metadata": {},
   "outputs": [
    {
     "name": "stdout",
     "output_type": "stream",
     "text": [
      "yes\n"
     ]
    }
   ],
   "source": [
    "s=\"racecar\"\n",
    "i=0\n",
    "j=len(s)-1\n",
    "f=0\n",
    "while i<=j:\n",
    "    if s[i]==s[j]:\n",
    "        i+=1\n",
    "        j-=1\n",
    "    else:\n",
    "        f=1\n",
    "        break\n",
    "if f==1:\n",
    "    print(\"not\")\n",
    "else:\n",
    "    print(\"yes\")\n"
   ]
  },
  {
   "cell_type": "code",
   "execution_count": 2,
   "id": "3fb14eaf",
   "metadata": {},
   "outputs": [
    {
     "name": "stdout",
     "output_type": "stream",
     "text": [
      "True\n"
     ]
    }
   ],
   "source": [
    "def palin(s,i,j):\n",
    "    if i>j:\n",
    "        return True\n",
    "    if s[i]==s[j]:\n",
    "        return palin(s,i+1,j-1)\n",
    "    return False\n",
    "s=\"madam\"\n",
    "i=0\n",
    "j=len(s)-1\n",
    "print(palin(s,i,j))"
   ]
  },
  {
   "cell_type": "code",
   "execution_count": 8,
   "id": "e0d35a5a",
   "metadata": {},
   "outputs": [
    {
     "name": "stdout",
     "output_type": "stream",
     "text": [
      "[1, 1, 5, 7, 8, 9, 10]\n"
     ]
    }
   ],
   "source": [
    "# Quick sort using recursion\n",
    "\n",
    "arr = [10, 7, 8,1, 9, 1, 5]\n",
    "def quicksort(arr):\n",
    "    l=len(arr)\n",
    "    if l<=1:\n",
    "        return arr\n",
    "    else:\n",
    "        pv=arr[l//2]\n",
    "        lw=[x for x in arr if x<pv]\n",
    "        eq=[y for y in arr if y==pv]\n",
    "        hg=[z for z in arr if z>pv]\n",
    "    return quicksort(lw)+eq+quicksort(hg)\n",
    "print(quicksort(arr))\n"
   ]
  }
 ],
 "metadata": {
  "kernelspec": {
   "display_name": "Python 3",
   "language": "python",
   "name": "python3"
  },
  "language_info": {
   "codemirror_mode": {
    "name": "ipython",
    "version": 3
   },
   "file_extension": ".py",
   "mimetype": "text/x-python",
   "name": "python",
   "nbconvert_exporter": "python",
   "pygments_lexer": "ipython3",
   "version": "3.13.6"
  }
 },
 "nbformat": 4,
 "nbformat_minor": 5
}
