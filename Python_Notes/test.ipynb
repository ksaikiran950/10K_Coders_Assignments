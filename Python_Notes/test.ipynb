{
 "cells": [
  {
   "cell_type": "code",
   "execution_count": 5,
   "id": "0d59ac8e",
   "metadata": {},
   "outputs": [
    {
     "name": "stdout",
     "output_type": "stream",
     "text": [
      "[[0, 0, 0], [0, 0, 0]]\n",
      "[[5, 4, 1], [1, -9, 10]]\n"
     ]
    }
   ],
   "source": [
    "m1=[[1,2],\n",
    "    [3,-1]]\n",
    "m2=[[1,-2,3],\n",
    "    [2,3,-1]]\n",
    "n=len(m1)\n",
    "m=len(m2[0])\n",
    "m3=[[0]*m for i in range(n)]\n",
    "print(m3)\n",
    "for i in range(n):\n",
    "    for j in  range(m):\n",
    "        for k in range(n):\n",
    "            m3[i][j]+=m1[i][k]*m2[k][j]\n",
    "print(m3)\n"
   ]
  },
  {
   "cell_type": "code",
   "execution_count": 66,
   "id": "a5ee55c4",
   "metadata": {},
   "outputs": [
    {
     "name": "stdout",
     "output_type": "stream",
     "text": [
      "11\n"
     ]
    }
   ],
   "source": [
    "num=10\n",
    "def is_prime(n):\n",
    "    if n<2:\n",
    "        return False\n",
    "    for i in range(2,n):\n",
    "        if n%i==0:\n",
    "            return False\n",
    "    return True\n",
    "\n",
    "   \n",
    "def near_prime(n):\n",
    "    if is_prime(n):\n",
    "        return n\n",
    "    l=n-1\n",
    "    h=n+1\n",
    "    while True:\n",
    "        if l>1 and is_prime(l):\n",
    "            return l\n",
    "        if is_prime(h):\n",
    "            return h\n",
    "        l-=1\n",
    "        h+=1\n",
    "\n",
    "print(near_prime(n))\n",
    "    \n",
    "    "
   ]
  },
  {
   "cell_type": "code",
   "execution_count": 76,
   "id": "73ee387c",
   "metadata": {},
   "outputs": [
    {
     "name": "stdout",
     "output_type": "stream",
     "text": [
      "        * \n",
      "      *   * \n",
      "    *       * \n",
      "  *           * \n",
      "*               * \n",
      "  *           * \n",
      "    *       * \n",
      "      *   * \n",
      "        * \n"
     ]
    }
   ],
   "source": [
    "n=5\n",
    "for i in range(n):\n",
    "    for j in range(n-i-1):\n",
    "        print(\" \",end=\" \")\n",
    "    for k in range(2*i+1):\n",
    "        if k==0 or k==i*2:\n",
    "            print(\"*\",end=\" \")\n",
    "        else:\n",
    "            print(\" \",end=\" \")\n",
    "    print()\n",
    "for i in range(1,n):\n",
    "    for j in range(i):\n",
    "        print(\" \",end=\" \")\n",
    "    for k in range(2*(n-i)-1):\n",
    "        if k==0 or k==2*(n-i)-2:\n",
    "            print(\"*\",end=\" \")\n",
    "        else:\n",
    "            print(\" \",end=\" \")\n",
    "    print()"
   ]
  },
  {
   "cell_type": "code",
   "execution_count": null,
   "id": "ceba0658",
   "metadata": {},
   "outputs": [
    {
     "name": "stdout",
     "output_type": "stream",
     "text": [
      "[3, 2]\n"
     ]
    }
   ],
   "source": [
    "def find_repeated(lst):\n",
    "    seen = []\n",
    "    repeated = []\n",
    "    for num in lst:\n",
    "        if num in seen:\n",
    "            if num not in repeated:   \n",
    "                repeated.append(num)\n",
    "        else:\n",
    "            seen.append(num)\n",
    "    return repeated\n",
    "\n",
    "\n",
    "l1 = [1,2,3,4,3,6,7,2]\n",
    "print(find_repeated(l1))   \n"
   ]
  },
  {
   "cell_type": "code",
   "execution_count": 1,
   "id": "abd7fe89",
   "metadata": {},
   "outputs": [
    {
     "name": "stdout",
     "output_type": "stream",
     "text": [
      "iam a python trainer\n",
      "Srbvbn\n"
     ]
    }
   ],
   "source": [
    "def custom_replace(s, old, new):\n",
    "    res = \"\"\n",
    "    i = 0\n",
    "    while i < len(s):\n",
    "        if s[i:i+len(old)] == old:\n",
    "            res += new\n",
    "            i += len(old)  \n",
    "        else:\n",
    "            res += s[i]\n",
    "            i += 1\n",
    "    return res\n",
    "\n",
    "s1 = \"iam a java trainer\"\n",
    "print(custom_replace(s1, \"java\", \"python\"))   \n",
    "\n",
    "s2 = \"Sravan\"\n",
    "print(custom_replace(s2, \"a\", \"b\"))           \n"
   ]
  }
 ],
 "metadata": {
  "kernelspec": {
   "display_name": "Python 3",
   "language": "python",
   "name": "python3"
  },
  "language_info": {
   "codemirror_mode": {
    "name": "ipython",
    "version": 3
   },
   "file_extension": ".py",
   "mimetype": "text/x-python",
   "name": "python",
   "nbconvert_exporter": "python",
   "pygments_lexer": "ipython3",
   "version": "3.13.6"
  }
 },
 "nbformat": 4,
 "nbformat_minor": 5
}
