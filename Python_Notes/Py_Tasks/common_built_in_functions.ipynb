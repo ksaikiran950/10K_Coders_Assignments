{
 "cells": [
  {
   "cell_type": "code",
   "execution_count": 1,
   "id": "b209600a",
   "metadata": {},
   "outputs": [
    {
     "name": "stdout",
     "output_type": "stream",
     "text": [
      "5\n",
      "3\n",
      "2\n"
     ]
    }
   ],
   "source": [
    "\"\"\"🔹 Common Built-in Functions for str, list, and tuple\n",
    "1. len()\n",
    "\n",
    "Use: Returns the length (number of elements/characters).\n",
    "\n",
    "✅ Works on strings, lists, and tuples.\"\"\"\n",
    "print(len(\"hello\"))     # 5\n",
    "print(len([1, 2, 3]))   # 3\n",
    "print(len((10, 20)))    # 2\n"
   ]
  },
  {
   "cell_type": "code",
   "execution_count": 2,
   "id": "14151b97",
   "metadata": {},
   "outputs": [
    {
     "name": "stdout",
     "output_type": "stream",
     "text": [
      "c\n",
      "2\n",
      "7\n"
     ]
    }
   ],
   "source": [
    "\"\"\"2. max() / min()\n",
    "\n",
    "Use: Returns the maximum or minimum element.\n",
    "\n",
    "✅ Works if elements are comparable.\"\"\"\n",
    "print(max(\"abc\"))        # 'c'\n",
    "print(min([4, 9, 2]))    # 2\n",
    "print(max((3, 7, 1)))    # 7\n"
   ]
  },
  {
   "cell_type": "code",
   "execution_count": 3,
   "id": "3cc3d9a9",
   "metadata": {},
   "outputs": [
    {
     "name": "stdout",
     "output_type": "stream",
     "text": [
      "6\n",
      "30\n"
     ]
    }
   ],
   "source": [
    "\"\"\"3. sum()\n",
    "\n",
    "Use: Returns the sum of elements.\n",
    "\n",
    "⚠️ Works only for numeric elements (not strings).\"\"\"\n",
    "print(sum([1, 2, 3]))   # 6\n",
    "print(sum((10, 20)))    # 30\n",
    "# sum(\"abc\") ❌ (not allowed)\n"
   ]
  },
  {
   "cell_type": "code",
   "execution_count": 4,
   "id": "ca1ee82a",
   "metadata": {},
   "outputs": [
    {
     "name": "stdout",
     "output_type": "stream",
     "text": [
      "['a', 'b', 'c']\n",
      "[1, 2, 3]\n",
      "[2, 5, 9]\n"
     ]
    }
   ],
   "source": [
    "\"\"\"4. sorted()\n",
    "\n",
    "Use: Returns a new sorted list from any iterable.\"\"\"\n",
    "print(sorted(\"cab\"))       # ['a', 'b', 'c']\n",
    "print(sorted([3, 1, 2]))   # [1, 2, 3]\n",
    "print(sorted((5, 2, 9)))   # [2, 5, 9]\n"
   ]
  },
  {
   "cell_type": "code",
   "execution_count": 5,
   "id": "72e64b67",
   "metadata": {},
   "outputs": [
    {
     "name": "stdout",
     "output_type": "stream",
     "text": [
      "['c', 'b', 'a']\n",
      "[2, 1]\n",
      "[20, 10]\n"
     ]
    }
   ],
   "source": [
    "\"\"\"5. reversed()\n",
    "\n",
    "Use: Returns an iterator that iterates in reverse.\"\"\"\n",
    "print(list(reversed(\"abc\")))   # ['c', 'b', 'a']\n",
    "print(list(reversed([1, 2])))  # [2, 1]\n",
    "print(list(reversed((10,20)))) # [20, 10]\n"
   ]
  },
  {
   "cell_type": "code",
   "execution_count": 6,
   "id": "8379f76f",
   "metadata": {},
   "outputs": [
    {
     "name": "stdout",
     "output_type": "stream",
     "text": [
      "True\n",
      "True\n",
      "True\n",
      "True\n"
     ]
    }
   ],
   "source": [
    "\"\"\"6. any() / all()\n",
    "\n",
    "any(): True if at least one element is truthy.\n",
    "\n",
    "all(): True if all elements are truthy.\"\"\"\n",
    "print(any([0, 0, 1]))       # True\n",
    "print(all((1, 2, 3)))       # True\n",
    "print(any(\"hello\"))         # True\n",
    "print(all(\"\"))              # False\n"
   ]
  },
  {
   "cell_type": "code",
   "execution_count": 7,
   "id": "b1270d82",
   "metadata": {},
   "outputs": [
    {
     "name": "stdout",
     "output_type": "stream",
     "text": [
      "0 a\n",
      "1 b\n",
      "2 c\n",
      "0 10\n",
      "1 20\n"
     ]
    }
   ],
   "source": [
    "\"\"\"7. enumerate()\n",
    "\n",
    "Use: Returns index and element pairs.\"\"\"\n",
    "for i, ch in enumerate(\"abc\"):\n",
    "    print(i, ch)  # 0 a, 1 b, 2 c\n",
    "\n",
    "for i, val in enumerate([10, 20]):\n",
    "    print(i, val) # 0 10, 1 20\n"
   ]
  },
  {
   "cell_type": "code",
   "execution_count": 8,
   "id": "024b597c",
   "metadata": {},
   "outputs": [
    {
     "name": "stdout",
     "output_type": "stream",
     "text": [
      "[('a', 1, 100), ('b', 2, 200)]\n"
     ]
    }
   ],
   "source": [
    "\"\"\"8. zip()\n",
    "\n",
    "Use: Combines multiple iterables element-wise.\"\"\"\n",
    "print(list(zip(\"ab\", [1,2], (100,200))))  \n",
    "# [('a', 1, 100), ('b', 2, 200)]\n"
   ]
  },
  {
   "cell_type": "code",
   "execution_count": 9,
   "id": "8751a600",
   "metadata": {},
   "outputs": [
    {
     "name": "stdout",
     "output_type": "stream",
     "text": [
      "['A', 'B', 'C']\n",
      "[2, 4, 6]\n",
      "['a', 'b']\n",
      "[3, 5]\n"
     ]
    }
   ],
   "source": [
    "\"\"\"9. map(), filter()\n",
    "\n",
    "map(func, iterable): Applies a function.\n",
    "\n",
    "filter(func, iterable): Filters elements by condition.\"\"\"\n",
    "print(list(map(str.upper, \"abc\")))   # ['A', 'B', 'C']\n",
    "print(list(map(lambda x: x*2, [1,2,3])))  # [2,4,6]\n",
    "\n",
    "print(list(filter(str.isalpha, \"a1b2\")))  # ['a','b']\n",
    "print(list(filter(lambda x: x>2, (1,3,5)))) # [3,5]\n"
   ]
  },
  {
   "cell_type": "code",
   "execution_count": 10,
   "id": "55c3ce03",
   "metadata": {},
   "outputs": [
    {
     "name": "stdout",
     "output_type": "stream",
     "text": [
      "True\n",
      "True\n",
      "True\n"
     ]
    }
   ],
   "source": [
    "\"\"\"10. in / not in (Membership)\n",
    "\n",
    "Use: Check if an element exists.\"\"\"\n",
    "print('a' in \"abc\")     # True\n",
    "print(2 in [1,2,3])     # True\n",
    "print(10 in (5, 10))    # True\n"
   ]
  },
  {
   "cell_type": "code",
   "execution_count": null,
   "id": "144bcab8",
   "metadata": {},
   "outputs": [],
   "source": [
    "\"\"\"✅ Summary:\n",
    "\n",
    "Common functions: len, max, min, sum, sorted, reversed, any, all, enumerate, zip, map, filter, in\n",
    "\n",
    "They work because strings, lists, and tuples are sequences and iterables.\"\"\""
   ]
  },
  {
   "cell_type": "code",
   "execution_count": 16,
   "id": "3e8f21a2",
   "metadata": {},
   "outputs": [
    {
     "name": "stdout",
     "output_type": "stream",
     "text": [
      "7\n"
     ]
    }
   ],
   "source": [
    "\"\"\"write codes to find second largest and second smallest element in a list...\n",
    "\"\"\"\n",
    "def sec_largest(l1):\n",
    "    fmax=float(\"-inf\")\n",
    "    smax=float(\"-inf\")\n",
    "    for i in l1:\n",
    "        if i>fmax:\n",
    "            smax=fmax\n",
    "            fmax=i\n",
    "        elif smax < i >fmax:\n",
    "            smax=i\n",
    "    return smax\n",
    "\n",
    "l1=[2,3,4,5,7,9]\n",
    "print(sec_largest(l1))\n",
    "\n",
    "\n",
    "    "
   ]
  },
  {
   "cell_type": "code",
   "execution_count": 21,
   "id": "7ae2ec39",
   "metadata": {},
   "outputs": [
    {
     "name": "stdout",
     "output_type": "stream",
     "text": [
      "2\n"
     ]
    }
   ],
   "source": [
    "def sec_smallest(l1):\n",
    "    fmin=float(\"inf\")\n",
    "    smin=float(\"inf\")\n",
    "    for i in l1:\n",
    "        if i<fmin:\n",
    "            smin=fmin\n",
    "            fmin=i\n",
    "        elif i< smin and i >fmin:\n",
    "            smin=i\n",
    "    return smin\n",
    "\n",
    "l1=[1,2,3,4,5,78,9]\n",
    "print(sec_smallest(l1))"
   ]
  }
 ],
 "metadata": {
  "kernelspec": {
   "display_name": "Python 3",
   "language": "python",
   "name": "python3"
  },
  "language_info": {
   "codemirror_mode": {
    "name": "ipython",
    "version": 3
   },
   "file_extension": ".py",
   "mimetype": "text/x-python",
   "name": "python",
   "nbconvert_exporter": "python",
   "pygments_lexer": "ipython3",
   "version": "3.13.6"
  }
 },
 "nbformat": 4,
 "nbformat_minor": 5
}
