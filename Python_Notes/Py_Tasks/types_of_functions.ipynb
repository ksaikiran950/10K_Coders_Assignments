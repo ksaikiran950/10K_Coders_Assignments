{
 "cells": [
  {
   "cell_type": "code",
   "execution_count": 2,
   "id": "f62081e1",
   "metadata": {},
   "outputs": [
    {
     "name": "stdout",
     "output_type": "stream",
     "text": [
      "AbCdE1g#\n"
     ]
    }
   ],
   "source": [
    "def swap(s):\n",
    "    if len(s)==0:\n",
    "        return\n",
    "    res=\"\"\n",
    "    for i in s:\n",
    "        if 65<=ord(i)<=90:\n",
    "            res+=chr(ord(i)+32)\n",
    "        elif 97<=ord(i)<=122:\n",
    "            res+=chr(ord(i)-32)\n",
    "        else:\n",
    "            res+=i\n",
    "\n",
    "    return res\n",
    "\n",
    "s=\"aBcDe1G#\"\n",
    "print(swap(s))"
   ]
  },
  {
   "cell_type": "code",
   "execution_count": 3,
   "id": "4aa603a7",
   "metadata": {},
   "outputs": [
    {
     "name": "stdout",
     "output_type": "stream",
     "text": [
      "Strip : hello world\n",
      "LStrip: hello world   \n",
      "RStrip:    hello world\n"
     ]
    }
   ],
   "source": [
    "def my_strip(s):\n",
    "    start = 0\n",
    "    end = len(s) - 1\n",
    "    \n",
    "    # Remove leading spaces\n",
    "    while start <= end and s[start] == \" \":\n",
    "        start += 1\n",
    "    \n",
    "    # Remove trailing spaces\n",
    "    while end >= start and s[end] == \" \":\n",
    "        end -= 1\n",
    "    \n",
    "    return s[start:end+1]\n",
    "\n",
    "\n",
    "def my_lstrip(s):\n",
    "    start = 0\n",
    "    while start < len(s) and s[start] == \" \":\n",
    "        start += 1\n",
    "    return s[start:]\n",
    "\n",
    "\n",
    "def my_rstrip(s):\n",
    "    end = len(s) - 1\n",
    "    while end >= 0 and s[end] == \" \":\n",
    "        end -= 1\n",
    "    return s[:end+1]\n",
    "\n",
    "# Example\n",
    "text = \"   hello world   \"\n",
    "print(\"Strip :\", my_strip(text))   # \"hello world\"\n",
    "print(\"LStrip:\", my_lstrip(text))  # \"hello world   \"\n",
    "print(\"RStrip:\", my_rstrip(text))  # \"   hello world\""
   ]
  },
  {
   "cell_type": "code",
   "execution_count": 4,
   "id": "c3aa090b",
   "metadata": {},
   "outputs": [
    {
     "name": "stdout",
     "output_type": "stream",
     "text": [
      "2\n",
      "3\n"
     ]
    }
   ],
   "source": [
    "def my_count(s, sub):\n",
    "    count = 0\n",
    "    n, m = len(s), len(sub)\n",
    "    \n",
    "    for i in range(n - m + 1):\n",
    "        if s[i:i+m] == sub:\n",
    "            count += 1\n",
    "    return count\n",
    "\n",
    "# Example\n",
    "print(my_count(\"banana\", \"ana\"))   # Output: 1\n",
    "print(my_count(\"banana\", \"a\"))     # Output: 3"
   ]
  },
  {
   "cell_type": "code",
   "execution_count": 5,
   "id": "3172f946",
   "metadata": {},
   "outputs": [
    {
     "name": "stdout",
     "output_type": "stream",
     "text": [
      "I like mango, mango is sweet\n"
     ]
    }
   ],
   "source": [
    "def my_replace(s, old, new):\n",
    "    result = \"\"\n",
    "    i = 0\n",
    "    n, m = len(s), len(old)\n",
    "    \n",
    "    while i < n:\n",
    "        if s[i:i+m] == old:\n",
    "            result += new\n",
    "            i += m\n",
    "        else:\n",
    "            result += s[i]\n",
    "            i += 1\n",
    "    return result\n",
    "\n",
    "# Example\n",
    "print(my_replace(\"I like apple, apple is sweet\", \"apple\", \"mango\"))\n",
    "# Output: I like mango, mango is sweet"
   ]
  }
 ],
 "metadata": {
  "kernelspec": {
   "display_name": "Python 3",
   "language": "python",
   "name": "python3"
  },
  "language_info": {
   "codemirror_mode": {
    "name": "ipython",
    "version": 3
   },
   "file_extension": ".py",
   "mimetype": "text/x-python",
   "name": "python",
   "nbconvert_exporter": "python",
   "pygments_lexer": "ipython3",
   "version": "3.13.6"
  }
 },
 "nbformat": 4,
 "nbformat_minor": 5
}
