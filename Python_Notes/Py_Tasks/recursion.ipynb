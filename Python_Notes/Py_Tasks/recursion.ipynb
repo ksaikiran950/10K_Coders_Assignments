{
 "cells": [
  {
   "cell_type": "code",
   "execution_count": null,
   "id": "38d2b654",
   "metadata": {},
   "outputs": [],
   "source": [
    "\"\"\"sum of n numbers using recursion,\n",
    " string palindrome using recursion,\n",
    " find fibonaci number using recursion.\n",
    "\"\"\""
   ]
  },
  {
   "cell_type": "code",
   "execution_count": 1,
   "id": "e3839920",
   "metadata": {},
   "outputs": [
    {
     "name": "stdout",
     "output_type": "stream",
     "text": [
      "55\n"
     ]
    }
   ],
   "source": [
    "def summ(n):\n",
    "    if n==1:\n",
    "        return n\n",
    "    return n+summ(n-1)\n",
    "n=10\n",
    "print(summ(n))"
   ]
  },
  {
   "cell_type": "code",
   "execution_count": 2,
   "id": "161f9550",
   "metadata": {},
   "outputs": [
    {
     "name": "stdout",
     "output_type": "stream",
     "text": [
      "True\n"
     ]
    }
   ],
   "source": [
    "def palin(s,i,j):\n",
    "    if i>j:\n",
    "        return True\n",
    "    if s[i]!=s[j]:\n",
    "        return False\n",
    "    return palin(s,i+1,j-1)\n",
    "\n",
    "s='racecar'\n",
    "i=0\n",
    "j=len(s)-1\n",
    "print(palin(s,i,j))\n",
    "        "
   ]
  },
  {
   "cell_type": "code",
   "execution_count": 3,
   "id": "f132f696",
   "metadata": {},
   "outputs": [
    {
     "name": "stdout",
     "output_type": "stream",
     "text": [
      "13\n"
     ]
    }
   ],
   "source": [
    "def fib(n):\n",
    "    if n==0:\n",
    "        return 0\n",
    "    if n==1:\n",
    "        return 1\n",
    "    return fib(n-1)+fib(n-2)\n",
    "n=7\n",
    "print(fib(n))"
   ]
  }
 ],
 "metadata": {
  "kernelspec": {
   "display_name": "Python 3",
   "language": "python",
   "name": "python3"
  },
  "language_info": {
   "codemirror_mode": {
    "name": "ipython",
    "version": 3
   },
   "file_extension": ".py",
   "mimetype": "text/x-python",
   "name": "python",
   "nbconvert_exporter": "python",
   "pygments_lexer": "ipython3",
   "version": "3.13.6"
  }
 },
 "nbformat": 4,
 "nbformat_minor": 5
}
